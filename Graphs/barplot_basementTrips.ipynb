{
 "cells": [
  {
   "cell_type": "code",
   "execution_count": 1,
   "metadata": {},
   "outputs": [],
   "source": [
    "import pandas as pd\n",
    "import numpy as np\n",
    "import matplotlib.pyplot as plt"
   ]
  },
  {
   "cell_type": "code",
   "execution_count": 3,
   "metadata": {},
   "outputs": [],
   "source": [
    "BasementTrips=pd.read_csv('basementTrips.csv')"
   ]
  },
  {
   "cell_type": "code",
   "execution_count": 4,
   "metadata": {},
   "outputs": [
    {
     "data": {
      "text/html": [
       "<div>\n",
       "<style scoped>\n",
       "    .dataframe tbody tr th:only-of-type {\n",
       "        vertical-align: middle;\n",
       "    }\n",
       "\n",
       "    .dataframe tbody tr th {\n",
       "        vertical-align: top;\n",
       "    }\n",
       "\n",
       "    .dataframe thead th {\n",
       "        text-align: right;\n",
       "    }\n",
       "</style>\n",
       "<table border=\"1\" class=\"dataframe\">\n",
       "  <thead>\n",
       "    <tr style=\"text-align: right;\">\n",
       "      <th></th>\n",
       "      <th>Base_Number</th>\n",
       "      <th>Day</th>\n",
       "      <th>Trips</th>\n",
       "    </tr>\n",
       "  </thead>\n",
       "  <tbody>\n",
       "    <tr>\n",
       "      <th>0</th>\n",
       "      <td>B02512</td>\n",
       "      <td>Fri</td>\n",
       "      <td>16435</td>\n",
       "    </tr>\n",
       "    <tr>\n",
       "      <th>1</th>\n",
       "      <td>B02512</td>\n",
       "      <td>Mon</td>\n",
       "      <td>11297</td>\n",
       "    </tr>\n",
       "    <tr>\n",
       "      <th>2</th>\n",
       "      <td>B02512</td>\n",
       "      <td>Sat</td>\n",
       "      <td>15026</td>\n",
       "    </tr>\n",
       "    <tr>\n",
       "      <th>3</th>\n",
       "      <td>B02512</td>\n",
       "      <td>Sun</td>\n",
       "      <td>10487</td>\n",
       "    </tr>\n",
       "    <tr>\n",
       "      <th>4</th>\n",
       "      <td>B02512</td>\n",
       "      <td>Thu</td>\n",
       "      <td>15809</td>\n",
       "    </tr>\n",
       "    <tr>\n",
       "      <th>5</th>\n",
       "      <td>B02512</td>\n",
       "      <td>Tue</td>\n",
       "      <td>12041</td>\n",
       "    </tr>\n",
       "    <tr>\n",
       "      <th>6</th>\n",
       "      <td>B02512</td>\n",
       "      <td>Wed</td>\n",
       "      <td>12691</td>\n",
       "    </tr>\n",
       "    <tr>\n",
       "      <th>7</th>\n",
       "      <td>B02598</td>\n",
       "      <td>Fri</td>\n",
       "      <td>93126</td>\n",
       "    </tr>\n",
       "    <tr>\n",
       "      <th>8</th>\n",
       "      <td>B02598</td>\n",
       "      <td>Mon</td>\n",
       "      <td>60882</td>\n",
       "    </tr>\n",
       "    <tr>\n",
       "      <th>9</th>\n",
       "      <td>B02598</td>\n",
       "      <td>Sat</td>\n",
       "      <td>94588</td>\n",
       "    </tr>\n",
       "    <tr>\n",
       "      <th>10</th>\n",
       "      <td>B02598</td>\n",
       "      <td>Sun</td>\n",
       "      <td>66477</td>\n",
       "    </tr>\n",
       "    <tr>\n",
       "      <th>11</th>\n",
       "      <td>B02598</td>\n",
       "      <td>Thu</td>\n",
       "      <td>90333</td>\n",
       "    </tr>\n",
       "    <tr>\n",
       "      <th>12</th>\n",
       "      <td>B02598</td>\n",
       "      <td>Tue</td>\n",
       "      <td>63429</td>\n",
       "    </tr>\n",
       "    <tr>\n",
       "      <th>13</th>\n",
       "      <td>B02598</td>\n",
       "      <td>Wed</td>\n",
       "      <td>71956</td>\n",
       "    </tr>\n",
       "    <tr>\n",
       "      <th>14</th>\n",
       "      <td>B02617</td>\n",
       "      <td>Fri</td>\n",
       "      <td>125067</td>\n",
       "    </tr>\n",
       "    <tr>\n",
       "      <th>15</th>\n",
       "      <td>B02617</td>\n",
       "      <td>Mon</td>\n",
       "      <td>80591</td>\n",
       "    </tr>\n",
       "    <tr>\n",
       "      <th>16</th>\n",
       "      <td>B02617</td>\n",
       "      <td>Sat</td>\n",
       "      <td>127902</td>\n",
       "    </tr>\n",
       "    <tr>\n",
       "      <th>17</th>\n",
       "      <td>B02617</td>\n",
       "      <td>Sun</td>\n",
       "      <td>91722</td>\n",
       "    </tr>\n",
       "    <tr>\n",
       "      <th>18</th>\n",
       "      <td>B02617</td>\n",
       "      <td>Thu</td>\n",
       "      <td>118254</td>\n",
       "    </tr>\n",
       "    <tr>\n",
       "      <th>19</th>\n",
       "      <td>B02617</td>\n",
       "      <td>Tue</td>\n",
       "      <td>86602</td>\n",
       "    </tr>\n",
       "    <tr>\n",
       "      <th>20</th>\n",
       "      <td>B02617</td>\n",
       "      <td>Wed</td>\n",
       "      <td>94887</td>\n",
       "    </tr>\n",
       "    <tr>\n",
       "      <th>21</th>\n",
       "      <td>B02682</td>\n",
       "      <td>Fri</td>\n",
       "      <td>114662</td>\n",
       "    </tr>\n",
       "    <tr>\n",
       "      <th>22</th>\n",
       "      <td>B02682</td>\n",
       "      <td>Mon</td>\n",
       "      <td>74939</td>\n",
       "    </tr>\n",
       "    <tr>\n",
       "      <th>23</th>\n",
       "      <td>B02682</td>\n",
       "      <td>Sat</td>\n",
       "      <td>120283</td>\n",
       "    </tr>\n",
       "    <tr>\n",
       "      <th>24</th>\n",
       "      <td>B02682</td>\n",
       "      <td>Sun</td>\n",
       "      <td>82825</td>\n",
       "    </tr>\n",
       "    <tr>\n",
       "      <th>25</th>\n",
       "      <td>B02682</td>\n",
       "      <td>Thu</td>\n",
       "      <td>106643</td>\n",
       "    </tr>\n",
       "    <tr>\n",
       "      <th>26</th>\n",
       "      <td>B02682</td>\n",
       "      <td>Tue</td>\n",
       "      <td>76905</td>\n",
       "    </tr>\n",
       "    <tr>\n",
       "      <th>27</th>\n",
       "      <td>B02682</td>\n",
       "      <td>Wed</td>\n",
       "      <td>86252</td>\n",
       "    </tr>\n",
       "    <tr>\n",
       "      <th>28</th>\n",
       "      <td>B02764</td>\n",
       "      <td>Fri</td>\n",
       "      <td>326968</td>\n",
       "    </tr>\n",
       "    <tr>\n",
       "      <th>29</th>\n",
       "      <td>B02764</td>\n",
       "      <td>Mon</td>\n",
       "      <td>214116</td>\n",
       "    </tr>\n",
       "    <tr>\n",
       "      <th>30</th>\n",
       "      <td>B02764</td>\n",
       "      <td>Sat</td>\n",
       "      <td>356789</td>\n",
       "    </tr>\n",
       "    <tr>\n",
       "      <th>31</th>\n",
       "      <td>B02764</td>\n",
       "      <td>Sun</td>\n",
       "      <td>249896</td>\n",
       "    </tr>\n",
       "    <tr>\n",
       "      <th>32</th>\n",
       "      <td>B02764</td>\n",
       "      <td>Thu</td>\n",
       "      <td>304200</td>\n",
       "    </tr>\n",
       "    <tr>\n",
       "      <th>33</th>\n",
       "      <td>B02764</td>\n",
       "      <td>Tue</td>\n",
       "      <td>221343</td>\n",
       "    </tr>\n",
       "    <tr>\n",
       "      <th>34</th>\n",
       "      <td>B02764</td>\n",
       "      <td>Wed</td>\n",
       "      <td>241137</td>\n",
       "    </tr>\n",
       "    <tr>\n",
       "      <th>35</th>\n",
       "      <td>B02765</td>\n",
       "      <td>Fri</td>\n",
       "      <td>34934</td>\n",
       "    </tr>\n",
       "    <tr>\n",
       "      <th>36</th>\n",
       "      <td>B02765</td>\n",
       "      <td>Mon</td>\n",
       "      <td>21974</td>\n",
       "    </tr>\n",
       "    <tr>\n",
       "      <th>37</th>\n",
       "      <td>B02765</td>\n",
       "      <td>Sat</td>\n",
       "      <td>36737</td>\n",
       "    </tr>\n",
       "    <tr>\n",
       "      <th>38</th>\n",
       "      <td>B02765</td>\n",
       "      <td>Sun</td>\n",
       "      <td>22536</td>\n",
       "    </tr>\n",
       "    <tr>\n",
       "      <th>39</th>\n",
       "      <td>B02765</td>\n",
       "      <td>Thu</td>\n",
       "      <td>30408</td>\n",
       "    </tr>\n",
       "    <tr>\n",
       "      <th>40</th>\n",
       "      <td>B02765</td>\n",
       "      <td>Tue</td>\n",
       "      <td>22741</td>\n",
       "    </tr>\n",
       "    <tr>\n",
       "      <th>41</th>\n",
       "      <td>B02765</td>\n",
       "      <td>Wed</td>\n",
       "      <td>24340</td>\n",
       "    </tr>\n",
       "  </tbody>\n",
       "</table>\n",
       "</div>"
      ],
      "text/plain": [
       "   Base_Number  Day   Trips\n",
       "0       B02512  Fri   16435\n",
       "1       B02512  Mon   11297\n",
       "2       B02512  Sat   15026\n",
       "3       B02512  Sun   10487\n",
       "4       B02512  Thu   15809\n",
       "5       B02512  Tue   12041\n",
       "6       B02512  Wed   12691\n",
       "7       B02598  Fri   93126\n",
       "8       B02598  Mon   60882\n",
       "9       B02598  Sat   94588\n",
       "10      B02598  Sun   66477\n",
       "11      B02598  Thu   90333\n",
       "12      B02598  Tue   63429\n",
       "13      B02598  Wed   71956\n",
       "14      B02617  Fri  125067\n",
       "15      B02617  Mon   80591\n",
       "16      B02617  Sat  127902\n",
       "17      B02617  Sun   91722\n",
       "18      B02617  Thu  118254\n",
       "19      B02617  Tue   86602\n",
       "20      B02617  Wed   94887\n",
       "21      B02682  Fri  114662\n",
       "22      B02682  Mon   74939\n",
       "23      B02682  Sat  120283\n",
       "24      B02682  Sun   82825\n",
       "25      B02682  Thu  106643\n",
       "26      B02682  Tue   76905\n",
       "27      B02682  Wed   86252\n",
       "28      B02764  Fri  326968\n",
       "29      B02764  Mon  214116\n",
       "30      B02764  Sat  356789\n",
       "31      B02764  Sun  249896\n",
       "32      B02764  Thu  304200\n",
       "33      B02764  Tue  221343\n",
       "34      B02764  Wed  241137\n",
       "35      B02765  Fri   34934\n",
       "36      B02765  Mon   21974\n",
       "37      B02765  Sat   36737\n",
       "38      B02765  Sun   22536\n",
       "39      B02765  Thu   30408\n",
       "40      B02765  Tue   22741\n",
       "41      B02765  Wed   24340"
      ]
     },
     "execution_count": 4,
     "metadata": {},
     "output_type": "execute_result"
    }
   ],
   "source": [
    "BasementTrips"
   ]
  },
  {
   "cell_type": "code",
   "execution_count": 5,
   "metadata": {},
   "outputs": [],
   "source": [
    "baseID=BasementTrips['Base_Number'].tolist()"
   ]
  },
  {
   "cell_type": "code",
   "execution_count": 6,
   "metadata": {},
   "outputs": [],
   "source": [
    "Day=BasementTrips['Day'].tolist()"
   ]
  },
  {
   "cell_type": "code",
   "execution_count": 7,
   "metadata": {},
   "outputs": [],
   "source": [
    "trips=BasementTrips['Trips'].tolist()"
   ]
  },
  {
   "cell_type": "code",
   "execution_count": 11,
   "metadata": {},
   "outputs": [
    {
     "data": {
      "image/png": "[encoded data removed]",
      "text/plain": [
       "<Figure size 432x288 with 1 Axes>"
      ]
     },
     "metadata": {
      "needs_background": "light"
     },
     "output_type": "display_data"
    }
   ],
   "source": [
    "#bar plot of Trips for B02512\n",
    "plt.bar(Day[0:7],trips[0:7],alpha=0.9)\n",
    "plt.xlabel('Day')\n",
    "plt.ylabel('Trips')\n",
    "plt.title('Trips for B02512')\n",
    "#plt.show()\n",
    "plt.xticks(Day, [str(i) for i in Day], rotation=90)\n",
    "\n",
    "#set parameters for tick labels\n",
    "plt.tick_params(axis='x', which='major', labelsize=7)\n",
    "\n",
    "plt.tight_layout()"
   ]
  },
  {
   "cell_type": "code",
   "execution_count": 12,
   "metadata": {},
   "outputs": [
    {
     "data": {
      "image/png": "[encoded data removed]",
      "text/plain": [
       "<Figure size 432x288 with 1 Axes>"
      ]
     },
     "metadata": {
      "needs_background": "light"
     },
     "output_type": "display_data"
    }
   ],
   "source": [
    "#bar plot of Trips for B02598\n",
    "plt.bar(Day[7:14],trips[7:14],alpha=0.9)\n",
    "plt.xlabel('Day')\n",
    "plt.ylabel('Trips')\n",
    "plt.title('Trips for B02598')\n",
    "#plt.show()\n",
    "plt.xticks(Day, [str(i) for i in Day], rotation=90)\n",
    "\n",
    "#set parameters for tick labels\n",
    "plt.tick_params(axis='x', which='major', labelsize=7)\n",
    "\n",
    "plt.tight_layout()"
   ]
  },
  {
   "cell_type": "code",
   "execution_count": 13,
   "metadata": {},
   "outputs": [
    {
     "data": {
      "image/png": "[encoded data removed]",
      "text/plain": [
       "<Figure size 432x288 with 1 Axes>"
      ]
     },
     "metadata": {
      "needs_background": "light"
     },
     "output_type": "display_data"
    }
   ],
   "source": [
    "#bar plot of Trips for B02617\n",
    "plt.bar(Day[14:21],trips[14:21],alpha=0.9)\n",
    "plt.xlabel('Day')\n",
    "plt.ylabel('Trips')\n",
    "plt.title('Trips for B02617')\n",
    "#plt.show()\n",
    "plt.xticks(Day, [str(i) for i in Day], rotation=90)\n",
    "\n",
    "#set parameters for tick labels\n",
    "plt.tick_params(axis='x', which='major', labelsize=7)\n",
    "\n",
    "plt.tight_layout()"
   ]
  },
  {
   "cell_type": "code",
   "execution_count": 14,
   "metadata": {},
   "outputs": [
    {
     "data": {
      "image/png": "[encoded data removed]",
      "text/plain": [
       "<Figure size 432x288 with 1 Axes>"
      ]
     },
     "metadata": {
      "needs_background": "light"
     },
     "output_type": "display_data"
    }
   ],
   "source": [
    "#bar plot of Trips for B02682\n",
    "plt.bar(Day[21:28],trips[21:28],alpha=0.9)\n",
    "plt.xlabel('Day')\n",
    "plt.ylabel('Trips')\n",
    "plt.title('Trips for B02682')\n",
    "#plt.show()\n",
    "plt.xticks(Day, [str(i) for i in Day], rotation=90)\n",
    "\n",
    "#set parameters for tick labels\n",
    "plt.tick_params(axis='x', which='major', labelsize=7)\n",
    "\n",
    "plt.tight_layout()"
   ]
  },
  {
   "cell_type": "code",
   "execution_count": 15,
   "metadata": {},
   "outputs": [
    {
     "data": {
      "image/png": "[encoded data removed]",
      "text/plain": [
       "<Figure size 432x288 with 1 Axes>"
      ]
     },
     "metadata": {
      "needs_background": "light"
     },
     "output_type": "display_data"
    }
   ],
   "source": [
    "#bar plot of Trips for B02764\n",
    "plt.bar(Day[28:35],trips[28:35],alpha=0.9)\n",
    "plt.xlabel('Day')\n",
    "plt.ylabel('Trips')\n",
    "plt.title('Trips for B02764')\n",
    "#plt.show()\n",
    "plt.xticks(Day, [str(i) for i in Day], rotation=90)\n",
    "\n",
    "#set parameters for tick labels\n",
    "plt.tick_params(axis='x', which='major', labelsize=7)\n",
    "\n",
    "plt.tight_layout()"
   ]
  },
  {
   "cell_type": "code",
   "execution_count": 16,
   "metadata": {},
   "outputs": [
    {
     "data": {
      "image/png": "[encoded data removed]",
      "text/plain": [
       "<Figure size 432x288 with 1 Axes>"
      ]
     },
     "metadata": {
      "needs_background": "light"
     },
     "output_type": "display_data"
    }
   ],
   "source": [
    "#bar plot of Trips for B02765\n",
    "plt.bar(Day[35:42],trips[35:42],alpha=0.9)\n",
    "plt.xlabel('Day')\n",
    "plt.ylabel('Trips')\n",
    "plt.title('Trips for B02765')\n",
    "#plt.show()\n",
    "plt.xticks(Day, [str(i) for i in Day], rotation=90)\n",
    "\n",
    "#set parameters for tick labels\n",
    "plt.tick_params(axis='x', which='major', labelsize=7)\n",
    "\n",
    "plt.tight_layout()"
   ]
  },
  {
   "cell_type": "code",
   "execution_count": null,
   "metadata": {},
   "outputs": [],
   "source": []
  }
 ],
 "metadata": {
  "kernelspec": {
   "display_name": "Python 3",
   "language": "python",
   "name": "python3"
  },
  "language_info": {
   "codemirror_mode": {
    "name": "ipython",
    "version": 3
   },
   "file_extension": ".py",
   "mimetype": "text/x-python",
   "name": "python",
   "nbconvert_exporter": "python",
   "pygments_lexer": "ipython3",
   "version": "3.6.9"
  }
 },
 "nbformat": 4,
 "nbformat_minor": 2
}
